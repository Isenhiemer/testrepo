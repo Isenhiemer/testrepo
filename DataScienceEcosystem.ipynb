{
 "cells": [
  {
   "cell_type": "markdown",
   "id": "84d74ef8-c71d-4d7e-9387-0058d1bdd284",
   "metadata": {},
   "source": [
    "# Data Science Tools and Ecosystem"
   ]
  },
  {
   "cell_type": "markdown",
   "id": "74882129-ae4e-410b-a83e-7c19618876af",
   "metadata": {},
   "source": [
    "### In this notebook, Data Science Tools and Ecosystem are summarized."
   ]
  },
  {
   "cell_type": "markdown",
   "id": "004d25f6-4ec4-4841-895f-64e22f7a180e",
   "metadata": {},
   "source": [
    "## **Objectives:**\n",
    "- List popular languages that Data Scientists use.\n",
    "- List some of the commonly used libraries.\n",
    "- Show a table of Data Science Tools.\n",
    "- Give examples of evaluating arithmetic expressions in Python."
   ]
  },
  {
   "cell_type": "markdown",
   "id": "ca4fc458-5e1c-4d2a-a7b3-36524d056457",
   "metadata": {},
   "source": [
    "### Some of the popular languages that Data Scientists use are:\n",
    "1. Python\n",
    "2. R\n",
    "3. SQL\n",
    "4. Julia\n",
    "5. Java\n",
    "6. Scala"
   ]
  },
  {
   "cell_type": "markdown",
   "id": "71506203-8dbf-4a76-90c0-34f1de69ae58",
   "metadata": {},
   "source": [
    "#### Some of the commonly used libraries used by Data Scientists include:\n",
    "1. NumPy\n",
    "2. pandas\n",
    "3. Seaborn\n",
    "4. SciPy\n",
    "5. TensorFLow\n",
    "6. PyTorch"
   ]
  },
  {
   "cell_type": "markdown",
   "id": "48fd75be-dd87-4ff6-a304-b8cbf4b2d6d2",
   "metadata": {},
   "source": [
    "|Data Science Tools|\n",
    "|-|\n",
    "|Jupyter Notebooks|\n",
    "|RStudio|\n",
    "|Visual Studio Code|"
   ]
  },
  {
   "cell_type": "markdown",
   "id": "fed7a95d-628f-4431-8019-a450e84bf59e",
   "metadata": {},
   "source": [
    "### Below are a few examples of evaluating arithmetic expressions in Python"
   ]
  },
  {
   "cell_type": "code",
   "execution_count": 2,
   "id": "8703c693-9924-490e-86d2-2249fb36b350",
   "metadata": {},
   "outputs": [
    {
     "data": {
      "text/plain": [
       "17"
      ]
     },
     "execution_count": 2,
     "metadata": {},
     "output_type": "execute_result"
    }
   ],
   "source": [
    "# This (is) a simple arithmetic expression to mu(l)tiply then add integers\n",
    "(3*4)+5"
   ]
  },
  {
   "cell_type": "code",
   "execution_count": 5,
   "id": "7bf1285c-ab60-4b3d-adf5-a2474a927b9b",
   "metadata": {},
   "outputs": [
    {
     "data": {
      "text/plain": [
       "3.3333333333333335"
      ]
     },
     "execution_count": 5,
     "metadata": {},
     "output_type": "execute_result"
    }
   ],
   "source": [
    "# This will convert 200 minutes to hours by diving by 60\n",
    "200/60"
   ]
  },
  {
   "cell_type": "markdown",
   "id": "6fac4625-33ae-4c6b-b7ea-3083910e6fe0",
   "metadata": {},
   "source": [
    "## Author\n",
    "Joshua"
   ]
  },
  {
   "cell_type": "code",
   "execution_count": null,
   "id": "61ee6280-66ff-45d5-b9b3-44fb3d3ce45c",
   "metadata": {},
   "outputs": [],
   "source": []
  }
 ],
 "metadata": {
  "kernelspec": {
   "display_name": "Python 3 (ipykernel)",
   "language": "python",
   "name": "python3"
  },
  "language_info": {
   "codemirror_mode": {
    "name": "ipython",
    "version": 3
   },
   "file_extension": ".py",
   "mimetype": "text/x-python",
   "name": "python",
   "nbconvert_exporter": "python",
   "pygments_lexer": "ipython3",
   "version": "3.11.7"
  }
 },
 "nbformat": 4,
 "nbformat_minor": 5
}
